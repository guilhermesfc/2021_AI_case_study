{
 "cells": [
  {
   "cell_type": "code",
   "execution_count": 1,
   "metadata": {},
   "outputs": [],
   "source": [
    "import pandas as pd\n",
    "from sklearn.ensemble import RandomForestClassifier\n",
    "from sklearn.model_selection import train_test_split\n",
    "from sklearn.metrics import brier_score_loss, precision_score, recall_score, f1_score\n",
    "from sklearn.inspection import permutation_importance\n",
    "import numpy as np\n",
    "from skl2onnx import convert_sklearn\n",
    "from skl2onnx.common.data_types import FloatTensorType\n",
    "from sklearn.calibration import CalibratedClassifierCV\n",
    "import zipfile\n",
    "import os\n",
    "\n",
    "random_seed = 1"
   ]
  },
  {
   "cell_type": "markdown",
   "metadata": {},
   "source": [
    "## 1. Data Preprocessing"
   ]
  },
  {
   "cell_type": "markdown",
   "metadata": {},
   "source": [
    "### Load the data"
   ]
  },
  {
   "cell_type": "code",
   "execution_count": 2,
   "metadata": {},
   "outputs": [],
   "source": [
    "dataset = pd.read_csv(\"./data/bank_dataset (3) (1) (1) (3) (1).csv\")"
   ]
  },
  {
   "cell_type": "markdown",
   "metadata": {},
   "source": [
    "### Preprocess the data\n",
    "- Check for NAs or missing values;\n",
    "- Separate features from target variable;\n",
    "- Determine numeric and non-numeric features;\n",
    "- One-hot encode non-numeric features;\n",
    "- Turn target variable into 0/1 (useful for some algorithms)."
   ]
  },
  {
   "cell_type": "code",
   "execution_count": 3,
   "metadata": {},
   "outputs": [
    {
     "data": {
      "text/plain": [
       "False"
      ]
     },
     "execution_count": 3,
     "metadata": {},
     "output_type": "execute_result"
    }
   ],
   "source": [
    "dataset.isnull().any().any()"
   ]
  },
  {
   "cell_type": "code",
   "execution_count": 4,
   "metadata": {},
   "outputs": [],
   "source": [
    "X = dataset.loc[:, dataset.columns != 'target']\n",
    "y = dataset.loc[:, 'target']"
   ]
  },
  {
   "cell_type": "code",
   "execution_count": 5,
   "metadata": {},
   "outputs": [
    {
     "name": "stdout",
     "output_type": "stream",
     "text": [
      "There are 10 numeric features out of 20.\n"
     ]
    }
   ],
   "source": [
    "numeric_features = X.select_dtypes(include=['int64', 'float64']).columns.tolist()\n",
    "non_numeric_features = X.select_dtypes(exclude=['int64', 'float64']).columns.tolist()\n",
    "print(f\"There are {len(numeric_features)} numeric features out of {len(X.columns)}.\")"
   ]
  },
  {
   "cell_type": "code",
   "execution_count": 6,
   "metadata": {},
   "outputs": [],
   "source": [
    "X = pd.get_dummies(X, drop_first=True)"
   ]
  },
  {
   "cell_type": "code",
   "execution_count": 7,
   "metadata": {},
   "outputs": [],
   "source": [
    "y = y.replace(\"yes\", 1)\n",
    "y = y.replace(\"no\", 0)"
   ]
  },
  {
   "cell_type": "markdown",
   "metadata": {},
   "source": [
    "### Split the data intro Train and Test sets"
   ]
  },
  {
   "cell_type": "code",
   "execution_count": 8,
   "metadata": {},
   "outputs": [],
   "source": [
    "X_train, X_test, y_train, y_test = train_test_split(X, y, test_size=0.25, random_state=random_seed)"
   ]
  },
  {
   "cell_type": "markdown",
   "metadata": {},
   "source": [
    "## 2. Machine learning model training"
   ]
  },
  {
   "cell_type": "markdown",
   "metadata": {},
   "source": [
    "### Train Model"
   ]
  },
  {
   "cell_type": "markdown",
   "metadata": {},
   "source": [
    "Classical model choices for binary classification problems would be, for instance: Logistic Regression, Random Forests and Neural Networks.\n",
    "- Given the number of categorical variables and possibility of complex relationships between the features (e.g. multicollinearity), we avoid logistic regression.\n",
    "- We avoid Neural Networks given the limited amount of data vs number of features.\n",
    "\n",
    "We choose to use **Random Forests** given their predictive power, ability to handle categorical data and ease of use (e.g., via the scikit-learn library)."
   ]
  },
  {
   "cell_type": "code",
   "execution_count": null,
   "metadata": {},
   "outputs": [],
   "source": [
    "classifier = RandomForestClassifier(random_state=random_seed)\n",
    "classifier.fit(X_train,y_train)"
   ]
  },
  {
   "cell_type": "markdown",
   "metadata": {},
   "source": [
    "We re-calibrate the classifier using isotonic regression."
   ]
  },
  {
   "cell_type": "code",
   "execution_count": null,
   "metadata": {},
   "outputs": [],
   "source": [
    "calibrated_classifier = CalibratedClassifierCV(classifier, cv=20, method='isotonic')\n",
    "calibrated_classifier.fit(X_train, y_train)"
   ]
  },
  {
   "cell_type": "markdown",
   "metadata": {},
   "source": [
    "### Determine feature importance"
   ]
  },
  {
   "cell_type": "markdown",
   "metadata": {},
   "source": [
    "Using permutation importance."
   ]
  },
  {
   "cell_type": "code",
   "execution_count": 11,
   "metadata": {},
   "outputs": [
    {
     "name": "stdout",
     "output_type": "stream",
     "text": [
      "last_contact_duration\n",
      "0.0395\n",
      " +/- 0.0007\n",
      "euri_3_month\n",
      "0.0053\n",
      " +/- 0.0003\n",
      "emp_var_rate\n",
      "0.0045\n",
      " +/- 0.0002\n",
      "nb_employees\n",
      "0.0039\n",
      " +/- 0.0002\n",
      "N_last_days\n",
      "0.0010\n",
      " +/- 0.0000\n",
      "month_oct\n",
      "0.0010\n",
      " +/- 0.0000\n",
      "contact_mode_telephone\n",
      "0.0009\n",
      " +/- 0.0001\n",
      "cons_conf_index\n",
      "0.0009\n",
      " +/- 0.0001\n",
      "cons_price_index\n",
      "0.0007\n",
      " +/- 0.0001\n",
      "previous_outcome_success\n",
      "0.0007\n",
      " +/- 0.0000\n",
      "month_may\n",
      "0.0006\n",
      " +/- 0.0001\n",
      "contacts_per_campaign\n",
      "0.0005\n",
      " +/- 0.0001\n",
      "month_mar\n",
      "0.0002\n",
      " +/- 0.0000\n",
      "age\n",
      "0.0002\n",
      " +/- 0.0003\n",
      "has_credit_unknown\n",
      "0.0001\n",
      " +/- 0.0001\n",
      "occupation_self-employed\n",
      "0.0001\n",
      " +/- 0.0000\n",
      "education_university.degree\n",
      "0.0001\n",
      " +/- 0.0001\n",
      "week_day_thu\n",
      "0.0001\n",
      " +/- 0.0001\n",
      "week_day_tue\n",
      "0.0001\n",
      " +/- 0.0001\n",
      "week_day_wed\n",
      "0.0001\n",
      " +/- 0.0001\n",
      "week_day_mon\n",
      "0.0001\n",
      " +/- 0.0001\n",
      "occupation_technician\n",
      "0.0000\n",
      " +/- 0.0001\n",
      "month_nov\n",
      "0.0000\n",
      " +/- 0.0000\n",
      "previous_outcome_nonexistent\n",
      "0.0000\n",
      " +/- 0.0001\n",
      "occupation_housemaid\n",
      "0.0000\n",
      " +/- 0.0000\n",
      "occupation_blue-collar\n",
      "0.0000\n",
      " +/- 0.0001\n",
      "marital_status_unknown\n",
      "0.0000\n",
      " +/- 0.0000\n",
      "personal_loan_unknown\n",
      "0.0000\n",
      " +/- 0.0000\n",
      "occupation_unknown\n",
      "0.0000\n",
      " +/- 0.0000\n",
      "housing_loan_unknown\n",
      "0.0000\n",
      " +/- 0.0000\n",
      "has_credit_yes\n",
      "0.0000\n",
      " +/- 0.0000\n",
      "education_illiterate\n",
      "-0.0000\n",
      " +/- 0.0000\n",
      "occupation_unemployed\n",
      "-0.0000\n",
      " +/- 0.0000\n",
      "education_basic.6y\n",
      "-0.0000\n",
      " +/- 0.0000\n",
      "education_unknown\n",
      "-0.0000\n",
      " +/- 0.0000\n",
      "occupation_services\n",
      "-0.0000\n",
      " +/- 0.0000\n",
      "month_sep\n",
      "-0.0000\n",
      " +/- 0.0000\n",
      "occupation_management\n",
      "-0.0000\n",
      " +/- 0.0000\n",
      "month_dec\n",
      "-0.0000\n",
      " +/- 0.0000\n",
      "occupation_entrepreneur\n",
      "-0.0000\n",
      " +/- 0.0000\n",
      "occupation_student\n",
      "-0.0001\n",
      " +/- 0.0000\n",
      "personal_loan_yes\n",
      "-0.0001\n",
      " +/- 0.0001\n",
      "education_basic.9y\n",
      "-0.0001\n",
      " +/- 0.0001\n",
      "education_professional.course\n",
      "-0.0001\n",
      " +/- 0.0001\n",
      "month_aug\n",
      "-0.0001\n",
      " +/- 0.0000\n",
      "nb_previous_contact\n",
      "-0.0001\n",
      " +/- 0.0000\n",
      "education_high.school\n",
      "-0.0001\n",
      " +/- 0.0000\n",
      "month_jun\n",
      "-0.0001\n",
      " +/- 0.0001\n",
      "month_jul\n",
      "-0.0001\n",
      " +/- 0.0000\n",
      "occupation_retired\n",
      "-0.0002\n",
      " +/- 0.0000\n",
      "marital_status_married\n",
      "-0.0002\n",
      " +/- 0.0000\n",
      "housing_loan_yes\n",
      "-0.0002\n",
      " +/- 0.0002\n",
      "marital_status_single\n",
      "-0.0003\n",
      " +/- 0.0001\n"
     ]
    }
   ],
   "source": [
    "r = permutation_importance(\n",
    "    calibrated_classifier,\n",
    "    X_test,\n",
    "    y_test,\n",
    "    random_state=random_seed,\n",
    "    scoring=\"neg_brier_score\",\n",
    ")\n",
    "for i in r.importances_mean.argsort()[::-1]:\n",
    "    print(X_train.columns[i])\n",
    "    print(f\"{r.importances_mean[i]:.4f}\")\n",
    "    print(f\" +/- {r.importances_std[i]:.4f}\")"
   ]
  },
  {
   "cell_type": "markdown",
   "metadata": {},
   "source": [
    "Most important features seem to be _last_contact_duration_ , _euri_3_month_ and _emp_var_rate_ ."
   ]
  },
  {
   "cell_type": "markdown",
   "metadata": {},
   "source": [
    "## 3. Model’s performance evaluation"
   ]
  },
  {
   "cell_type": "markdown",
   "metadata": {},
   "source": [
    "\"Proper\" evaluation of model's performance would require information regarding model usage. In particular, information related to the \"cost\" of targeting a customer with a marketing campaign and the \"benefit\" of having a customer buying a financial product.\n",
    "\n",
    "Because this is not available, we evaluate how correctly calibrated is our model, and we use a _strictly proper scoring rule for this_: **Brier Score**.\n",
    "\n",
    "We compute the score for the entire test set and for the positive and negative classes."
   ]
  },
  {
   "cell_type": "code",
   "execution_count": 12,
   "metadata": {},
   "outputs": [
    {
     "name": "stdout",
     "output_type": "stream",
     "text": [
      "Brier score: 0.8298187150168627\n",
      "Brier score positive class: 0.30180480585643504\n",
      "Brier score negative class: 0.8971792279572809\n"
     ]
    }
   ],
   "source": [
    "y_pred_prob = calibrated_classifier.predict_proba(X_test)\n",
    "brier_score = brier_score_loss(y_test, y_pred_prob[:,0])\n",
    "brier_score_positive_class = brier_score_loss(y_test.iloc[np.where(y_test == 1)], y_pred_prob[:,0][np.where(y_test == 1)])\n",
    "brier_score_negative_class = brier_score_loss(y_test.iloc[np.where(y_test == 0)], y_pred_prob[:,0][np.where(y_test == 0)])\n",
    "print(\"Brier score:\", brier_score)\n",
    "print(\"Brier score positive class:\", brier_score_positive_class)\n",
    "print(\"Brier score negative class:\", brier_score_negative_class)"
   ]
  },
  {
   "cell_type": "markdown",
   "metadata": {},
   "source": [
    "We also show here the precision, recall and F1 score in case it is relevant for discussion."
   ]
  },
  {
   "cell_type": "code",
   "execution_count": 13,
   "metadata": {},
   "outputs": [
    {
     "name": "stdout",
     "output_type": "stream",
     "text": [
      "Precision: 0.5133047210300429\n",
      "Recall: 0.6542669584245077\n",
      "F1: 0.5752765752765753\n"
     ]
    }
   ],
   "source": [
    "precision = precision_score(calibrated_classifier.predict(X_test), y_test)\n",
    "recall = recall_score(calibrated_classifier.predict(X_test), y_test) \n",
    "F1_score = f1_score(calibrated_classifier.predict(X_test), y_test)\n",
    "print(\"Precision:\", precision)\n",
    "print(\"Recall:\", recall)\n",
    "print(\"F1:\", F1_score)"
   ]
  },
  {
   "cell_type": "markdown",
   "metadata": {},
   "source": [
    "## 4. Release model into production"
   ]
  },
  {
   "cell_type": "code",
   "execution_count": 14,
   "metadata": {},
   "outputs": [],
   "source": [
    "# Export the model to ONNX format\n",
    "initial_type = [('float_input', FloatTensorType([None, X.shape[1]]))]\n",
    "onnx_model = convert_sklearn(calibrated_classifier, initial_types=initial_type)\n",
    "\n",
    "# Save the model to a file\n",
    "with open('calibrated_classifier.onnx', 'wb') as f:\n",
    "    f.write(onnx_model.SerializeToString())\n",
    "\n",
    "# Code to zip the file\n",
    "zip_filename = 'calibrated_classifier.zip'\n",
    "with zipfile.ZipFile(zip_filename, 'w') as zipf:\n",
    "    zipf.write('calibrated_classifier.onnx', compress_type=zipfile.ZIP_DEFLATED)\n",
    "\n",
    "os.remove('calibrated_classifier.onnx')"
   ]
  }
 ],
 "metadata": {
  "kernelspec": {
   "display_name": "2021_AI-pVs2dFUX",
   "language": "python",
   "name": "python3"
  },
  "language_info": {
   "codemirror_mode": {
    "name": "ipython",
    "version": 3
   },
   "file_extension": ".py",
   "mimetype": "text/x-python",
   "name": "python",
   "nbconvert_exporter": "python",
   "pygments_lexer": "ipython3",
   "version": "3.11.6"
  }
 },
 "nbformat": 4,
 "nbformat_minor": 2
}
